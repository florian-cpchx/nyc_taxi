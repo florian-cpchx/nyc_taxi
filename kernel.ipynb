{
  "cells": [
    {
      "metadata": {
        "_uuid": "e8b7458d9149ecd29009ac3c7febcbcf48ecd051"
      },
      "cell_type": "markdown",
      "source": "# **NYC Taxi Trip duration**\nThis notebook is my submission for the New York City Taxi Trip Duration Challenge on Kaggle.com.\nThe goal is to predict the duration of taxi rides in New York City."
    },
    {
      "metadata": {
        "_uuid": "8f2839f25d086af736a60e9eeb907d3b93b6e0e5",
        "_cell_guid": "b1076dfc-b9ad-4769-8c92-a6c4dae69d19",
        "trusted": true
      },
      "cell_type": "code",
      "source": "# Importing Python libraries for data analysis, processing, modelling and visualization.\nimport numpy as np # linear algebra\nimport pandas as pd # data processing, CSV file I/O (e.g. pd.read_csv)\nimport matplotlib.pyplot as plt\n%matplotlib inline\n\n# Input data files are available in the \"../input/\" directory.\n# For example, running this (by clicking run or pressing Shift+Enter) will list the files in the input directory\n\nimport os\nprint(os.listdir(\"../input\"))\n\n# Any results you write to the current directory are saved as output.",
      "execution_count": 177,
      "outputs": [
        {
          "output_type": "stream",
          "text": "['nyc-taxi-trip-duration', 'weather-data-in-new-york-city-2016']\n",
          "name": "stdout"
        }
      ]
    },
    {
      "metadata": {
        "_uuid": "2ae2e3f8311c6e5386840ec38e02b21e47bcb202"
      },
      "cell_type": "markdown",
      "source": "# Exploratory analysis"
    },
    {
      "metadata": {
        "trusted": true,
        "_uuid": "d1fad4f49f68bad81d108b8eeb432f426d3ea75f"
      },
      "cell_type": "code",
      "source": "# Loading data and checking it, using the id column provided in the dataset.\ndf_train = pd.read_csv('../input/nyc-taxi-trip-duration/train.csv',index_col=0)\ndf_test = pd.read_csv('../input/nyc-taxi-trip-duration/test.csv', index_col=0)",
      "execution_count": 178,
      "outputs": []
    },
    {
      "metadata": {
        "trusted": true,
        "_uuid": "ceaf397ffacb2cdb5ebf30d267e64a463efeb168"
      },
      "cell_type": "code",
      "source": "df_sample = pd.read_csv('../input/nyc-taxi-trip-duration/sample_submission.csv')\ndf_sample.head()",
      "execution_count": 179,
      "outputs": [
        {
          "output_type": "execute_result",
          "execution_count": 179,
          "data": {
            "text/plain": "          id  trip_duration\n0  id3004672            959\n1  id3505355            959\n2  id1217141            959\n3  id2150126            959\n4  id1598245            959",
            "text/html": "<div>\n<style scoped>\n    .dataframe tbody tr th:only-of-type {\n        vertical-align: middle;\n    }\n\n    .dataframe tbody tr th {\n        vertical-align: top;\n    }\n\n    .dataframe thead th {\n        text-align: right;\n    }\n</style>\n<table border=\"1\" class=\"dataframe\">\n  <thead>\n    <tr style=\"text-align: right;\">\n      <th></th>\n      <th>id</th>\n      <th>trip_duration</th>\n    </tr>\n  </thead>\n  <tbody>\n    <tr>\n      <th>0</th>\n      <td>id3004672</td>\n      <td>959</td>\n    </tr>\n    <tr>\n      <th>1</th>\n      <td>id3505355</td>\n      <td>959</td>\n    </tr>\n    <tr>\n      <th>2</th>\n      <td>id1217141</td>\n      <td>959</td>\n    </tr>\n    <tr>\n      <th>3</th>\n      <td>id2150126</td>\n      <td>959</td>\n    </tr>\n    <tr>\n      <th>4</th>\n      <td>id1598245</td>\n      <td>959</td>\n    </tr>\n  </tbody>\n</table>\n</div>"
          },
          "metadata": {}
        }
      ]
    },
    {
      "metadata": {
        "trusted": true,
        "_uuid": "3e2492340ee7db6ff4b726dc4f34115d65de2c53"
      },
      "cell_type": "code",
      "source": "# Checking whether ID is unique or not.\nlen(df_train.index) == df_train.index.nunique()",
      "execution_count": 180,
      "outputs": [
        {
          "output_type": "execute_result",
          "execution_count": 180,
          "data": {
            "text/plain": "True"
          },
          "metadata": {}
        }
      ]
    },
    {
      "metadata": {
        "trusted": true,
        "_uuid": "85bcd0219b0d20fa29b79368120d5edae1de9c89"
      },
      "cell_type": "code",
      "source": "# Checking for null values\ndf_train.isnull().values.any()",
      "execution_count": 181,
      "outputs": [
        {
          "output_type": "execute_result",
          "execution_count": 181,
          "data": {
            "text/plain": "False"
          },
          "metadata": {}
        }
      ]
    },
    {
      "metadata": {
        "trusted": true,
        "_uuid": "0418a5e03153da16357b619c57293b7ae4838ed7"
      },
      "cell_type": "code",
      "source": "# Quick statistical analysis.\ndf_train.describe()",
      "execution_count": 182,
      "outputs": [
        {
          "output_type": "execute_result",
          "execution_count": 182,
          "data": {
            "text/plain": "          vendor_id      ...        trip_duration\ncount  1.458644e+06      ...         1.458644e+06\nmean   1.534950e+00      ...         9.594923e+02\nstd    4.987772e-01      ...         5.237432e+03\nmin    1.000000e+00      ...         1.000000e+00\n25%    1.000000e+00      ...         3.970000e+02\n50%    2.000000e+00      ...         6.620000e+02\n75%    2.000000e+00      ...         1.075000e+03\nmax    2.000000e+00      ...         3.526282e+06\n\n[8 rows x 7 columns]",
            "text/html": "<div>\n<style scoped>\n    .dataframe tbody tr th:only-of-type {\n        vertical-align: middle;\n    }\n\n    .dataframe tbody tr th {\n        vertical-align: top;\n    }\n\n    .dataframe thead th {\n        text-align: right;\n    }\n</style>\n<table border=\"1\" class=\"dataframe\">\n  <thead>\n    <tr style=\"text-align: right;\">\n      <th></th>\n      <th>vendor_id</th>\n      <th>passenger_count</th>\n      <th>pickup_longitude</th>\n      <th>pickup_latitude</th>\n      <th>dropoff_longitude</th>\n      <th>dropoff_latitude</th>\n      <th>trip_duration</th>\n    </tr>\n  </thead>\n  <tbody>\n    <tr>\n      <th>count</th>\n      <td>1.458644e+06</td>\n      <td>1.458644e+06</td>\n      <td>1.458644e+06</td>\n      <td>1.458644e+06</td>\n      <td>1.458644e+06</td>\n      <td>1.458644e+06</td>\n      <td>1.458644e+06</td>\n    </tr>\n    <tr>\n      <th>mean</th>\n      <td>1.534950e+00</td>\n      <td>1.664530e+00</td>\n      <td>-7.397349e+01</td>\n      <td>4.075092e+01</td>\n      <td>-7.397342e+01</td>\n      <td>4.075180e+01</td>\n      <td>9.594923e+02</td>\n    </tr>\n    <tr>\n      <th>std</th>\n      <td>4.987772e-01</td>\n      <td>1.314242e+00</td>\n      <td>7.090186e-02</td>\n      <td>3.288119e-02</td>\n      <td>7.064327e-02</td>\n      <td>3.589056e-02</td>\n      <td>5.237432e+03</td>\n    </tr>\n    <tr>\n      <th>min</th>\n      <td>1.000000e+00</td>\n      <td>0.000000e+00</td>\n      <td>-1.219333e+02</td>\n      <td>3.435970e+01</td>\n      <td>-1.219333e+02</td>\n      <td>3.218114e+01</td>\n      <td>1.000000e+00</td>\n    </tr>\n    <tr>\n      <th>25%</th>\n      <td>1.000000e+00</td>\n      <td>1.000000e+00</td>\n      <td>-7.399187e+01</td>\n      <td>4.073735e+01</td>\n      <td>-7.399133e+01</td>\n      <td>4.073588e+01</td>\n      <td>3.970000e+02</td>\n    </tr>\n    <tr>\n      <th>50%</th>\n      <td>2.000000e+00</td>\n      <td>1.000000e+00</td>\n      <td>-7.398174e+01</td>\n      <td>4.075410e+01</td>\n      <td>-7.397975e+01</td>\n      <td>4.075452e+01</td>\n      <td>6.620000e+02</td>\n    </tr>\n    <tr>\n      <th>75%</th>\n      <td>2.000000e+00</td>\n      <td>2.000000e+00</td>\n      <td>-7.396733e+01</td>\n      <td>4.076836e+01</td>\n      <td>-7.396301e+01</td>\n      <td>4.076981e+01</td>\n      <td>1.075000e+03</td>\n    </tr>\n    <tr>\n      <th>max</th>\n      <td>2.000000e+00</td>\n      <td>9.000000e+00</td>\n      <td>-6.133553e+01</td>\n      <td>5.188108e+01</td>\n      <td>-6.133553e+01</td>\n      <td>4.392103e+01</td>\n      <td>3.526282e+06</td>\n    </tr>\n  </tbody>\n</table>\n</div>"
          },
          "metadata": {}
        }
      ]
    },
    {
      "metadata": {
        "trusted": true,
        "_uuid": "ca39ef29757de81e0579c65857842e7acddb5b42"
      },
      "cell_type": "code",
      "source": "df_train.info()",
      "execution_count": 183,
      "outputs": [
        {
          "output_type": "stream",
          "text": "<class 'pandas.core.frame.DataFrame'>\nIndex: 1458644 entries, id2875421 to id1209952\nData columns (total 10 columns):\nvendor_id             1458644 non-null int64\npickup_datetime       1458644 non-null object\ndropoff_datetime      1458644 non-null object\npassenger_count       1458644 non-null int64\npickup_longitude      1458644 non-null float64\npickup_latitude       1458644 non-null float64\ndropoff_longitude     1458644 non-null float64\ndropoff_latitude      1458644 non-null float64\nstore_and_fwd_flag    1458644 non-null object\ntrip_duration         1458644 non-null int64\ndtypes: float64(4), int64(3), object(3)\nmemory usage: 122.4+ MB\n",
          "name": "stdout"
        }
      ]
    },
    {
      "metadata": {
        "trusted": true,
        "_uuid": "5df9dc19f634965cc8691de375129f7b627cffdd"
      },
      "cell_type": "code",
      "source": "# Changing data type to handle dates in a easier way\n#df_train['pickup_datetime'] = pd.to_datetime(df_train['pickup_datetime'])\n#df_train['dropoff_datetime'] = pd.to_datetime(df_train['dropoff_datetime'])\n#df_test['pickup_datetime'] = pd.to_datetime(df_test['pickup_datetime'])",
      "execution_count": 184,
      "outputs": []
    },
    {
      "metadata": {
        "trusted": true,
        "_uuid": "f1955469eb1fe546a3e4783c6464d5ef1e452eac"
      },
      "cell_type": "code",
      "source": "# Splitting the dates in several columns to find out if any particulars years/months/days/hours/minutes have a different behavior \ndef extract_date_features_train(df, col):\n    X = pd.DataFrame()\n    \"\"\" Extract features from a date. \"\"\"\n    X[col + '_year'] = df_train[col].dt.year\n    X[col + '_month'] = df_train[col].dt.month\n    X[col + '_day'] = df_train[col].dt.day\n    X[col + '_week_of_year'] = df_train[col].dt.week\n    X[col + '_day_of_week'] = df_train[col].dt.dayofweek\n    X[col + '_day_of_year'] = df_train[col].dt.dayofyear\n    X[col + '_hour'] = df_train[col].dt.hour\n    X[col + '_minute'] = df_train[col].dt.minute\n    X[col + '_days_in_month'] = df_train[col].dt.days_in_month\n    X[col + '_is_month_start'] = df_train[col].dt.is_month_start\n    X[col + '_is_month_end'] = df_train[col].dt.is_month_end\n    return X",
      "execution_count": 185,
      "outputs": []
    },
    {
      "metadata": {
        "trusted": true,
        "_uuid": "c8f4b3419254864c2586250e261e6dce27dbfb40"
      },
      "cell_type": "code",
      "source": "def extract_date_features_test(df, col):\n    X = pd.DataFrame()\n    \"\"\" Extract features from a date. \"\"\"\n    X[col + '_year'] = df_test[col].dt.year\n    X[col + '_month'] = df_test[col].dt.month\n    X[col + '_day'] = df_test[col].dt.day\n    X[col + '_week_of_year'] = df_test[col].dt.week\n    X[col + '_day_of_week'] = df_test[col].dt.dayofweek\n    X[col + '_day_of_year'] = df_test[col].dt.dayofyear\n    X[col + '_hour'] = df_test[col].dt.hour\n    X[col + '_minute'] = df_test[col].dt.minute\n    X[col + '_days_in_month'] = df_test[col].dt.days_in_month\n    X[col + '_is_month_start'] = df_test[col].dt.is_month_start\n    X[col + '_is_month_end'] = df_test[col].dt.is_month_end\n    return X",
      "execution_count": 186,
      "outputs": []
    },
    {
      "metadata": {
        "trusted": true,
        "scrolled": true,
        "_uuid": "f50ffe37f0354b6f1a8f5b3266f820bc9d244861"
      },
      "cell_type": "code",
      "source": "#pickup_features_train = extract_date_features_train(df_train, 'pickup_datetime')\n#pickup_features_test = extract_date_features_test(df_test, 'pickup_datetime')",
      "execution_count": 187,
      "outputs": []
    },
    {
      "metadata": {
        "trusted": true,
        "scrolled": false,
        "_uuid": "1ae431d2d3fcf8c8002923d9806f232ae9269422"
      },
      "cell_type": "code",
      "source": "#dropoff_features_train = extract_date_features_train(df_train, 'dropoff_datetime')",
      "execution_count": 188,
      "outputs": []
    },
    {
      "metadata": {
        "trusted": true,
        "_uuid": "3b4891a647fcc3bda3fcd6047fe84120a161e47e",
        "scrolled": true
      },
      "cell_type": "code",
      "source": "# Adding the dates components to the dataframe\n#df_train = pd.concat([df_train, pickup_features_train, dropoff_features_train], axis=1)\n#df_test = pd.concat([df_test, pickup_features_test], axis=1)\n#df_train.head()",
      "execution_count": 189,
      "outputs": []
    },
    {
      "metadata": {
        "trusted": true,
        "_uuid": "de0ad561872cff78307188ee57186f0fe8d8e0f7"
      },
      "cell_type": "code",
      "source": "# Creating a fonction to calculate distance between our lat/long pickup and dropoff coordinates.\n#from math import sin, cos, sqrt, atan2, radians\n\n#def calculate_distance(longitude1, latitude1, longitude2, latitude2):\n    # Radius of Earth in km\n #   R = 6373.0\n\n  #  lat1 = radians(latitude1)\n #    lon1 = radians(longitude1)\n #    lat2 = radians(latitude2)\n #    lon2 = radians(longitude2)\n\n #    dlon = lon2 - lon1\n #    dlat = lat2 - lat1\n\n #    a = sin(dlat / 2)**2 + cos(lat1) * cos(lat2) * sin(dlon / 2)**2\n #    c = 2 * atan2(sqrt(a), sqrt(1 - a))\n  #   # Return distance in km\n #    return R * c\n\n# def add_distance(df):\n#    return df.apply(lambda row: calculate_distance(\n#         row.pickup_longitude,\n #        row.pickup_latitude,\n  #       row.dropoff_longitude,\n #        row.dropoff_latitude\n#     ), axis=1)\n\n# df_train['distance_km'] = add_distance(df_train)\n# df_train.head()",
      "execution_count": 190,
      "outputs": []
    },
    {
      "metadata": {
        "trusted": true,
        "_uuid": "08372b9a37aacd63b65da622c67ae4f01e379900"
      },
      "cell_type": "code",
      "source": "# Adding a weather dataset of NY to check if it affects traffic.\nweather = pd.read_csv('../input/weather-data-in-new-york-city-2016/weather_data_nyc_centralpark_2016(1).csv')\nweather.head()",
      "execution_count": 191,
      "outputs": [
        {
          "output_type": "execute_result",
          "execution_count": 191,
          "data": {
            "text/plain": "       date  maximum temperature     ...      snow fall  snow depth\n0  1-1-2016                   42     ...            0.0           0\n1  2-1-2016                   40     ...            0.0           0\n2  3-1-2016                   45     ...            0.0           0\n3  4-1-2016                   36     ...            0.0           0\n4  5-1-2016                   29     ...            0.0           0\n\n[5 rows x 7 columns]",
            "text/html": "<div>\n<style scoped>\n    .dataframe tbody tr th:only-of-type {\n        vertical-align: middle;\n    }\n\n    .dataframe tbody tr th {\n        vertical-align: top;\n    }\n\n    .dataframe thead th {\n        text-align: right;\n    }\n</style>\n<table border=\"1\" class=\"dataframe\">\n  <thead>\n    <tr style=\"text-align: right;\">\n      <th></th>\n      <th>date</th>\n      <th>maximum temperature</th>\n      <th>minimum temperature</th>\n      <th>average temperature</th>\n      <th>precipitation</th>\n      <th>snow fall</th>\n      <th>snow depth</th>\n    </tr>\n  </thead>\n  <tbody>\n    <tr>\n      <th>0</th>\n      <td>1-1-2016</td>\n      <td>42</td>\n      <td>34</td>\n      <td>38.0</td>\n      <td>0.00</td>\n      <td>0.0</td>\n      <td>0</td>\n    </tr>\n    <tr>\n      <th>1</th>\n      <td>2-1-2016</td>\n      <td>40</td>\n      <td>32</td>\n      <td>36.0</td>\n      <td>0.00</td>\n      <td>0.0</td>\n      <td>0</td>\n    </tr>\n    <tr>\n      <th>2</th>\n      <td>3-1-2016</td>\n      <td>45</td>\n      <td>35</td>\n      <td>40.0</td>\n      <td>0.00</td>\n      <td>0.0</td>\n      <td>0</td>\n    </tr>\n    <tr>\n      <th>3</th>\n      <td>4-1-2016</td>\n      <td>36</td>\n      <td>14</td>\n      <td>25.0</td>\n      <td>0.00</td>\n      <td>0.0</td>\n      <td>0</td>\n    </tr>\n    <tr>\n      <th>4</th>\n      <td>5-1-2016</td>\n      <td>29</td>\n      <td>11</td>\n      <td>20.0</td>\n      <td>0.00</td>\n      <td>0.0</td>\n      <td>0</td>\n    </tr>\n  </tbody>\n</table>\n</div>"
          },
          "metadata": {}
        }
      ]
    },
    {
      "metadata": {
        "trusted": true,
        "_uuid": "525ceff617984cdce8887a32d8f5705628544777"
      },
      "cell_type": "code",
      "source": "weather.date = pd.to_datetime(weather.date, dayfirst=True)\nweather['day_of_year']= weather.date.dt.dayofyear\nweather.head()",
      "execution_count": 192,
      "outputs": [
        {
          "output_type": "execute_result",
          "execution_count": 192,
          "data": {
            "text/plain": "        date  maximum temperature     ...       snow depth  day_of_year\n0 2016-01-01                   42     ...                0            1\n1 2016-01-02                   40     ...                0            2\n2 2016-01-03                   45     ...                0            3\n3 2016-01-04                   36     ...                0            4\n4 2016-01-05                   29     ...                0            5\n\n[5 rows x 8 columns]",
            "text/html": "<div>\n<style scoped>\n    .dataframe tbody tr th:only-of-type {\n        vertical-align: middle;\n    }\n\n    .dataframe tbody tr th {\n        vertical-align: top;\n    }\n\n    .dataframe thead th {\n        text-align: right;\n    }\n</style>\n<table border=\"1\" class=\"dataframe\">\n  <thead>\n    <tr style=\"text-align: right;\">\n      <th></th>\n      <th>date</th>\n      <th>maximum temperature</th>\n      <th>minimum temperature</th>\n      <th>average temperature</th>\n      <th>precipitation</th>\n      <th>snow fall</th>\n      <th>snow depth</th>\n      <th>day_of_year</th>\n    </tr>\n  </thead>\n  <tbody>\n    <tr>\n      <th>0</th>\n      <td>2016-01-01</td>\n      <td>42</td>\n      <td>34</td>\n      <td>38.0</td>\n      <td>0.00</td>\n      <td>0.0</td>\n      <td>0</td>\n      <td>1</td>\n    </tr>\n    <tr>\n      <th>1</th>\n      <td>2016-01-02</td>\n      <td>40</td>\n      <td>32</td>\n      <td>36.0</td>\n      <td>0.00</td>\n      <td>0.0</td>\n      <td>0</td>\n      <td>2</td>\n    </tr>\n    <tr>\n      <th>2</th>\n      <td>2016-01-03</td>\n      <td>45</td>\n      <td>35</td>\n      <td>40.0</td>\n      <td>0.00</td>\n      <td>0.0</td>\n      <td>0</td>\n      <td>3</td>\n    </tr>\n    <tr>\n      <th>3</th>\n      <td>2016-01-04</td>\n      <td>36</td>\n      <td>14</td>\n      <td>25.0</td>\n      <td>0.00</td>\n      <td>0.0</td>\n      <td>0</td>\n      <td>4</td>\n    </tr>\n    <tr>\n      <th>4</th>\n      <td>2016-01-05</td>\n      <td>29</td>\n      <td>11</td>\n      <td>20.0</td>\n      <td>0.00</td>\n      <td>0.0</td>\n      <td>0</td>\n      <td>5</td>\n    </tr>\n  </tbody>\n</table>\n</div>"
          },
          "metadata": {}
        }
      ]
    },
    {
      "metadata": {
        "trusted": true,
        "_uuid": "edd2fbb54dc81117c575ea6c94b35c4e65082c27"
      },
      "cell_type": "code",
      "source": "#df_train=df_train.merge(weather,left_on='pickup_datetime_day_of_year',right_on='day_of_year')\ndf_train.head()",
      "execution_count": 193,
      "outputs": [
        {
          "output_type": "execute_result",
          "execution_count": 193,
          "data": {
            "text/plain": "           vendor_id      ...      trip_duration\nid                        ...                   \nid2875421          2      ...                455\nid2377394          1      ...                663\nid3858529          2      ...               2124\nid3504673          2      ...                429\nid2181028          2      ...                435\n\n[5 rows x 10 columns]",
            "text/html": "<div>\n<style scoped>\n    .dataframe tbody tr th:only-of-type {\n        vertical-align: middle;\n    }\n\n    .dataframe tbody tr th {\n        vertical-align: top;\n    }\n\n    .dataframe thead th {\n        text-align: right;\n    }\n</style>\n<table border=\"1\" class=\"dataframe\">\n  <thead>\n    <tr style=\"text-align: right;\">\n      <th></th>\n      <th>vendor_id</th>\n      <th>pickup_datetime</th>\n      <th>dropoff_datetime</th>\n      <th>passenger_count</th>\n      <th>pickup_longitude</th>\n      <th>pickup_latitude</th>\n      <th>dropoff_longitude</th>\n      <th>dropoff_latitude</th>\n      <th>store_and_fwd_flag</th>\n      <th>trip_duration</th>\n    </tr>\n    <tr>\n      <th>id</th>\n      <th></th>\n      <th></th>\n      <th></th>\n      <th></th>\n      <th></th>\n      <th></th>\n      <th></th>\n      <th></th>\n      <th></th>\n      <th></th>\n    </tr>\n  </thead>\n  <tbody>\n    <tr>\n      <th>id2875421</th>\n      <td>2</td>\n      <td>2016-03-14 17:24:55</td>\n      <td>2016-03-14 17:32:30</td>\n      <td>1</td>\n      <td>-73.982155</td>\n      <td>40.767937</td>\n      <td>-73.964630</td>\n      <td>40.765602</td>\n      <td>N</td>\n      <td>455</td>\n    </tr>\n    <tr>\n      <th>id2377394</th>\n      <td>1</td>\n      <td>2016-06-12 00:43:35</td>\n      <td>2016-06-12 00:54:38</td>\n      <td>1</td>\n      <td>-73.980415</td>\n      <td>40.738564</td>\n      <td>-73.999481</td>\n      <td>40.731152</td>\n      <td>N</td>\n      <td>663</td>\n    </tr>\n    <tr>\n      <th>id3858529</th>\n      <td>2</td>\n      <td>2016-01-19 11:35:24</td>\n      <td>2016-01-19 12:10:48</td>\n      <td>1</td>\n      <td>-73.979027</td>\n      <td>40.763939</td>\n      <td>-74.005333</td>\n      <td>40.710087</td>\n      <td>N</td>\n      <td>2124</td>\n    </tr>\n    <tr>\n      <th>id3504673</th>\n      <td>2</td>\n      <td>2016-04-06 19:32:31</td>\n      <td>2016-04-06 19:39:40</td>\n      <td>1</td>\n      <td>-74.010040</td>\n      <td>40.719971</td>\n      <td>-74.012268</td>\n      <td>40.706718</td>\n      <td>N</td>\n      <td>429</td>\n    </tr>\n    <tr>\n      <th>id2181028</th>\n      <td>2</td>\n      <td>2016-03-26 13:30:55</td>\n      <td>2016-03-26 13:38:10</td>\n      <td>1</td>\n      <td>-73.973053</td>\n      <td>40.793209</td>\n      <td>-73.972923</td>\n      <td>40.782520</td>\n      <td>N</td>\n      <td>435</td>\n    </tr>\n  </tbody>\n</table>\n</div>"
          },
          "metadata": {}
        }
      ]
    },
    {
      "metadata": {
        "trusted": true,
        "_uuid": "56f6efcb592d8a4449d480aadf930dda50deba5c"
      },
      "cell_type": "code",
      "source": "#df_test=df_test.merge(weather,left_on='pickup_datetime_day_of_year',right_on='day_of_year')\ndf_test.head()",
      "execution_count": 194,
      "outputs": [
        {
          "output_type": "execute_result",
          "execution_count": 194,
          "data": {
            "text/plain": "           vendor_id        ...         store_and_fwd_flag\nid                          ...                           \nid3004672          1        ...                          N\nid3505355          1        ...                          N\nid1217141          1        ...                          N\nid2150126          2        ...                          N\nid1598245          1        ...                          N\n\n[5 rows x 8 columns]",
            "text/html": "<div>\n<style scoped>\n    .dataframe tbody tr th:only-of-type {\n        vertical-align: middle;\n    }\n\n    .dataframe tbody tr th {\n        vertical-align: top;\n    }\n\n    .dataframe thead th {\n        text-align: right;\n    }\n</style>\n<table border=\"1\" class=\"dataframe\">\n  <thead>\n    <tr style=\"text-align: right;\">\n      <th></th>\n      <th>vendor_id</th>\n      <th>pickup_datetime</th>\n      <th>passenger_count</th>\n      <th>pickup_longitude</th>\n      <th>pickup_latitude</th>\n      <th>dropoff_longitude</th>\n      <th>dropoff_latitude</th>\n      <th>store_and_fwd_flag</th>\n    </tr>\n    <tr>\n      <th>id</th>\n      <th></th>\n      <th></th>\n      <th></th>\n      <th></th>\n      <th></th>\n      <th></th>\n      <th></th>\n      <th></th>\n    </tr>\n  </thead>\n  <tbody>\n    <tr>\n      <th>id3004672</th>\n      <td>1</td>\n      <td>2016-06-30 23:59:58</td>\n      <td>1</td>\n      <td>-73.988129</td>\n      <td>40.732029</td>\n      <td>-73.990173</td>\n      <td>40.756680</td>\n      <td>N</td>\n    </tr>\n    <tr>\n      <th>id3505355</th>\n      <td>1</td>\n      <td>2016-06-30 23:59:53</td>\n      <td>1</td>\n      <td>-73.964203</td>\n      <td>40.679993</td>\n      <td>-73.959808</td>\n      <td>40.655403</td>\n      <td>N</td>\n    </tr>\n    <tr>\n      <th>id1217141</th>\n      <td>1</td>\n      <td>2016-06-30 23:59:47</td>\n      <td>1</td>\n      <td>-73.997437</td>\n      <td>40.737583</td>\n      <td>-73.986160</td>\n      <td>40.729523</td>\n      <td>N</td>\n    </tr>\n    <tr>\n      <th>id2150126</th>\n      <td>2</td>\n      <td>2016-06-30 23:59:41</td>\n      <td>1</td>\n      <td>-73.956070</td>\n      <td>40.771900</td>\n      <td>-73.986427</td>\n      <td>40.730469</td>\n      <td>N</td>\n    </tr>\n    <tr>\n      <th>id1598245</th>\n      <td>1</td>\n      <td>2016-06-30 23:59:33</td>\n      <td>1</td>\n      <td>-73.970215</td>\n      <td>40.761475</td>\n      <td>-73.961510</td>\n      <td>40.755890</td>\n      <td>N</td>\n    </tr>\n  </tbody>\n</table>\n</div>"
          },
          "metadata": {}
        }
      ]
    },
    {
      "metadata": {
        "trusted": true,
        "_uuid": "c54c81f37f5e6b9f44526440d0e8903e3b43d6f3"
      },
      "cell_type": "code",
      "source": "df_train = df_train.drop(columns=['pickup_datetime','dropoff_datetime','store_and_fwd_flag'])\ndf_train.info()",
      "execution_count": 201,
      "outputs": [
        {
          "output_type": "stream",
          "text": "<class 'pandas.core.frame.DataFrame'>\nIndex: 1458644 entries, id2875421 to id1209952\nData columns (total 7 columns):\nvendor_id            1458644 non-null int64\npassenger_count      1458644 non-null int64\npickup_longitude     1458644 non-null float64\npickup_latitude      1458644 non-null float64\ndropoff_longitude    1458644 non-null float64\ndropoff_latitude     1458644 non-null float64\ntrip_duration        1458644 non-null int64\ndtypes: float64(4), int64(3)\nmemory usage: 89.0+ MB\n",
          "name": "stdout"
        }
      ]
    },
    {
      "metadata": {
        "trusted": true,
        "_uuid": "162c3e84b7107d59a6eb99d2689a8a8d1a40bf41"
      },
      "cell_type": "code",
      "source": "df_test = df_test.drop(columns=['pickup_datetime','store_and_fwd_flag'])\ndf_test.info()",
      "execution_count": 202,
      "outputs": [
        {
          "output_type": "stream",
          "text": "<class 'pandas.core.frame.DataFrame'>\nIndex: 625134 entries, id3004672 to id0621643\nData columns (total 6 columns):\nvendor_id            625134 non-null int64\npassenger_count      625134 non-null int64\npickup_longitude     625134 non-null float64\npickup_latitude      625134 non-null float64\ndropoff_longitude    625134 non-null float64\ndropoff_latitude     625134 non-null float64\ndtypes: float64(4), int64(2)\nmemory usage: 33.4+ MB\n",
          "name": "stdout"
        }
      ]
    },
    {
      "metadata": {
        "trusted": true,
        "_uuid": "05a12c60f13f281a82d6a9e7ad790d1745610285",
        "scrolled": true
      },
      "cell_type": "code",
      "source": "X = df_train\nX.head()",
      "execution_count": 203,
      "outputs": [
        {
          "output_type": "execute_result",
          "execution_count": 203,
          "data": {
            "text/plain": "           vendor_id      ...        trip_duration\nid                        ...                     \nid2875421          2      ...                  455\nid2377394          1      ...                  663\nid3858529          2      ...                 2124\nid3504673          2      ...                  429\nid2181028          2      ...                  435\n\n[5 rows x 7 columns]",
            "text/html": "<div>\n<style scoped>\n    .dataframe tbody tr th:only-of-type {\n        vertical-align: middle;\n    }\n\n    .dataframe tbody tr th {\n        vertical-align: top;\n    }\n\n    .dataframe thead th {\n        text-align: right;\n    }\n</style>\n<table border=\"1\" class=\"dataframe\">\n  <thead>\n    <tr style=\"text-align: right;\">\n      <th></th>\n      <th>vendor_id</th>\n      <th>passenger_count</th>\n      <th>pickup_longitude</th>\n      <th>pickup_latitude</th>\n      <th>dropoff_longitude</th>\n      <th>dropoff_latitude</th>\n      <th>trip_duration</th>\n    </tr>\n    <tr>\n      <th>id</th>\n      <th></th>\n      <th></th>\n      <th></th>\n      <th></th>\n      <th></th>\n      <th></th>\n      <th></th>\n    </tr>\n  </thead>\n  <tbody>\n    <tr>\n      <th>id2875421</th>\n      <td>2</td>\n      <td>1</td>\n      <td>-73.982155</td>\n      <td>40.767937</td>\n      <td>-73.964630</td>\n      <td>40.765602</td>\n      <td>455</td>\n    </tr>\n    <tr>\n      <th>id2377394</th>\n      <td>1</td>\n      <td>1</td>\n      <td>-73.980415</td>\n      <td>40.738564</td>\n      <td>-73.999481</td>\n      <td>40.731152</td>\n      <td>663</td>\n    </tr>\n    <tr>\n      <th>id3858529</th>\n      <td>2</td>\n      <td>1</td>\n      <td>-73.979027</td>\n      <td>40.763939</td>\n      <td>-74.005333</td>\n      <td>40.710087</td>\n      <td>2124</td>\n    </tr>\n    <tr>\n      <th>id3504673</th>\n      <td>2</td>\n      <td>1</td>\n      <td>-74.010040</td>\n      <td>40.719971</td>\n      <td>-74.012268</td>\n      <td>40.706718</td>\n      <td>429</td>\n    </tr>\n    <tr>\n      <th>id2181028</th>\n      <td>2</td>\n      <td>1</td>\n      <td>-73.973053</td>\n      <td>40.793209</td>\n      <td>-73.972923</td>\n      <td>40.782520</td>\n      <td>435</td>\n    </tr>\n  </tbody>\n</table>\n</div>"
          },
          "metadata": {}
        }
      ]
    },
    {
      "metadata": {
        "trusted": true,
        "_uuid": "de7f2cb845f3b91d191ffa0b7e9a7491e56eccad"
      },
      "cell_type": "code",
      "source": "y = df_train\ny.head()",
      "execution_count": 207,
      "outputs": [
        {
          "output_type": "execute_result",
          "execution_count": 207,
          "data": {
            "text/plain": "           vendor_id      ...        trip_duration\nid                        ...                     \nid2875421          2      ...                  455\nid2377394          1      ...                  663\nid3858529          2      ...                 2124\nid3504673          2      ...                  429\nid2181028          2      ...                  435\n\n[5 rows x 7 columns]",
            "text/html": "<div>\n<style scoped>\n    .dataframe tbody tr th:only-of-type {\n        vertical-align: middle;\n    }\n\n    .dataframe tbody tr th {\n        vertical-align: top;\n    }\n\n    .dataframe thead th {\n        text-align: right;\n    }\n</style>\n<table border=\"1\" class=\"dataframe\">\n  <thead>\n    <tr style=\"text-align: right;\">\n      <th></th>\n      <th>vendor_id</th>\n      <th>passenger_count</th>\n      <th>pickup_longitude</th>\n      <th>pickup_latitude</th>\n      <th>dropoff_longitude</th>\n      <th>dropoff_latitude</th>\n      <th>trip_duration</th>\n    </tr>\n    <tr>\n      <th>id</th>\n      <th></th>\n      <th></th>\n      <th></th>\n      <th></th>\n      <th></th>\n      <th></th>\n      <th></th>\n    </tr>\n  </thead>\n  <tbody>\n    <tr>\n      <th>id2875421</th>\n      <td>2</td>\n      <td>1</td>\n      <td>-73.982155</td>\n      <td>40.767937</td>\n      <td>-73.964630</td>\n      <td>40.765602</td>\n      <td>455</td>\n    </tr>\n    <tr>\n      <th>id2377394</th>\n      <td>1</td>\n      <td>1</td>\n      <td>-73.980415</td>\n      <td>40.738564</td>\n      <td>-73.999481</td>\n      <td>40.731152</td>\n      <td>663</td>\n    </tr>\n    <tr>\n      <th>id3858529</th>\n      <td>2</td>\n      <td>1</td>\n      <td>-73.979027</td>\n      <td>40.763939</td>\n      <td>-74.005333</td>\n      <td>40.710087</td>\n      <td>2124</td>\n    </tr>\n    <tr>\n      <th>id3504673</th>\n      <td>2</td>\n      <td>1</td>\n      <td>-74.010040</td>\n      <td>40.719971</td>\n      <td>-74.012268</td>\n      <td>40.706718</td>\n      <td>429</td>\n    </tr>\n    <tr>\n      <th>id2181028</th>\n      <td>2</td>\n      <td>1</td>\n      <td>-73.973053</td>\n      <td>40.793209</td>\n      <td>-73.972923</td>\n      <td>40.782520</td>\n      <td>435</td>\n    </tr>\n  </tbody>\n</table>\n</div>"
          },
          "metadata": {}
        }
      ]
    },
    {
      "metadata": {
        "trusted": true,
        "_uuid": "76698f60cdac5fdf705b11e83a59df2b9ebe455b"
      },
      "cell_type": "code",
      "source": "X.shape,y.shape",
      "execution_count": 208,
      "outputs": [
        {
          "output_type": "execute_result",
          "execution_count": 208,
          "data": {
            "text/plain": "((1458644, 7), (1458644, 7))"
          },
          "metadata": {}
        }
      ]
    },
    {
      "metadata": {
        "trusted": true,
        "_uuid": "73678c46e16fe6c0402b27c881e4a5cc2740c251",
        "scrolled": false
      },
      "cell_type": "code",
      "source": "from sklearn.ensemble import RandomForestRegressor\nrf = RandomForestRegressor()\nrf.fit(X, y)\ny_test_pred = rf.predict(X)\nrf.score(X, y)",
      "execution_count": null,
      "outputs": [
        {
          "output_type": "stream",
          "text": "/opt/conda/lib/python3.6/site-packages/sklearn/ensemble/forest.py:246: FutureWarning: The default value of n_estimators will change from 10 in version 0.20 to 100 in 0.22.\n  \"10 in version 0.20 to 100 in 0.22.\", FutureWarning)\n",
          "name": "stderr"
        }
      ]
    },
    {
      "metadata": {
        "trusted": true,
        "_uuid": "2736a40c2756cc5338d5089c9173fa1735482bef"
      },
      "cell_type": "code",
      "source": "from sklearn.metrics import r2_score\nr2_score(y, y_test_pred)",
      "execution_count": 167,
      "outputs": [
        {
          "output_type": "error",
          "ename": "NameError",
          "evalue": "name 'y_test_pred' is not defined",
          "traceback": [
            "\u001b[0;31m---------------------------------------------------------------------------\u001b[0m",
            "\u001b[0;31mNameError\u001b[0m                                 Traceback (most recent call last)",
            "\u001b[0;32m<ipython-input-167-5600d5aa87a1>\u001b[0m in \u001b[0;36m<module>\u001b[0;34m()\u001b[0m\n\u001b[1;32m      1\u001b[0m \u001b[0;32mfrom\u001b[0m \u001b[0msklearn\u001b[0m\u001b[0;34m.\u001b[0m\u001b[0mmetrics\u001b[0m \u001b[0;32mimport\u001b[0m \u001b[0mr2_score\u001b[0m\u001b[0;34m\u001b[0m\u001b[0m\n\u001b[0;32m----> 2\u001b[0;31m \u001b[0mr2_score\u001b[0m\u001b[0;34m(\u001b[0m\u001b[0my\u001b[0m\u001b[0;34m,\u001b[0m \u001b[0my_test_pred\u001b[0m\u001b[0;34m)\u001b[0m\u001b[0;34m\u001b[0m\u001b[0m\n\u001b[0m",
            "\u001b[0;31mNameError\u001b[0m: name 'y_test_pred' is not defined"
          ]
        }
      ]
    },
    {
      "metadata": {
        "trusted": true,
        "_uuid": "afd6ef1acad554482594b4290ebe5d146de6d246"
      },
      "cell_type": "code",
      "source": "y.to_csv('to_submit.csv')",
      "execution_count": null,
      "outputs": []
    },
    {
      "metadata": {
        "trusted": true,
        "_uuid": "24a3fb6af39156759c30f444fe8b8cb860218ae4"
      },
      "cell_type": "code",
      "source": "#!ls",
      "execution_count": null,
      "outputs": []
    }
  ],
  "metadata": {
    "kernelspec": {
      "display_name": "Python 3",
      "language": "python",
      "name": "python3"
    },
    "language_info": {
      "name": "python",
      "version": "3.6.6",
      "mimetype": "text/x-python",
      "codemirror_mode": {
        "name": "ipython",
        "version": 3
      },
      "pygments_lexer": "ipython3",
      "nbconvert_exporter": "python",
      "file_extension": ".py"
    }
  },
  "nbformat": 4,
  "nbformat_minor": 1
}